{
 "cells": [
  {
   "cell_type": "code",
   "execution_count": 295,
   "id": "db0e5221",
   "metadata": {
    "executionInfo": {
     "elapsed": 3575,
     "status": "ok",
     "timestamp": 1686000907911,
     "user": {
      "displayName": "Zhiyuan Lou",
      "userId": "02318339843925588574"
     },
     "user_tz": -60
    },
    "id": "db0e5221"
   },
   "outputs": [],
   "source": [
    "import tensorflow as tf\n",
    "from sklearn.preprocessing import MinMaxScaler\n",
    "from sklearn.model_selection import train_test_split\n",
    "from tensorflow.python.keras import regularizers\n",
    "import matplotlib.pyplot as plt\n",
    "import numpy as np\n",
    "import pandas as pd\n",
    "import numpy.matlib"
   ]
  },
  {
   "cell_type": "code",
   "execution_count": 296,
   "id": "5ff9c264",
   "metadata": {},
   "outputs": [
    {
     "name": "stdout",
     "output_type": "stream",
     "text": [
      "Num GPUs Available:  0\n"
     ]
    }
   ],
   "source": [
    "print(\"Num GPUs Available: \", len(tf.config.list_physical_devices('GPU')))"
   ]
  },
  {
   "cell_type": "code",
   "execution_count": 297,
   "id": "34e8d9a5",
   "metadata": {},
   "outputs": [],
   "source": [
    "features = pd.read_csv('EI_data.csv')\n",
    "labelss = pd.read_csv('EI_labels.csv')\n"
   ]
  },
  {
   "cell_type": "code",
   "execution_count": 298,
   "id": "69216dfe",
   "metadata": {},
   "outputs": [],
   "source": [
    "features = features.to_numpy()\n",
    "labelss = labelss.to_numpy()\n"
   ]
  },
  {
   "cell_type": "code",
   "execution_count": 299,
   "id": "c7596639",
   "metadata": {},
   "outputs": [
    {
     "data": {
      "text/plain": [
       "array([[0.00497524, 0.0149554 , 0.00506889, ..., 0.13752379, 0.7211063 ,\n",
       "        0.88957389],\n",
       "       [0.0050106 , 0.01494963, 0.00504523, ..., 0.1374417 , 0.72101828,\n",
       "        0.88959629],\n",
       "       [0.00505418, 0.01490302, 0.00502486, ..., 0.13739678, 0.72111671,\n",
       "        0.8896793 ],\n",
       "       ...,\n",
       "       [0.13494305, 0.10681864, 0.01197126, ..., 0.14130183, 0.71136518,\n",
       "        0.88188638],\n",
       "       [0.13635318, 0.10677534, 0.01185567, ..., 0.1414056 , 0.71265973,\n",
       "        0.88242909],\n",
       "       [0.13684956, 0.10782022, 0.01214717, ..., 0.14078905, 0.71113571,\n",
       "        0.88218099]])"
      ]
     },
     "execution_count": 299,
     "metadata": {},
     "output_type": "execute_result"
    }
   ],
   "source": [
    "features"
   ]
  },
  {
   "cell_type": "code",
   "execution_count": 300,
   "id": "3289d06d",
   "metadata": {
    "executionInfo": {
     "elapsed": 12,
     "status": "ok",
     "timestamp": 1686000990965,
     "user": {
      "displayName": "Zhiyuan Lou",
      "userId": "02318339843925588574"
     },
     "user_tz": -60
    },
    "id": "3289d06d"
   },
   "outputs": [],
   "source": [
    "# #labelss = outputs[3:,:]\n",
    "# #X_train, X_test, y_train, y_test = train_test_split(features,labelss, test_size=0.3, random_state=42)\n",
    "X_train, X_rem, y_train, y_rem = train_test_split(features,labelss, train_size=0.7, stratify= labelss)\n",
    "X_valid, X_test, y_valid, y_test = train_test_split(X_rem,y_rem, test_size=0.5,stratify= y_rem)\n"
   ]
  },
  {
   "cell_type": "code",
   "execution_count": 301,
   "id": "32014a0a",
   "metadata": {
    "colab": {
     "base_uri": "https://localhost:8080/"
    },
    "executionInfo": {
     "elapsed": 11,
     "status": "ok",
     "timestamp": 1686000990965,
     "user": {
      "displayName": "Zhiyuan Lou",
      "userId": "02318339843925588574"
     },
     "user_tz": -60
    },
    "id": "32014a0a",
    "outputId": "1f2242a0-ed0d-407e-feaa-6c108f98722b"
   },
   "outputs": [
    {
     "data": {
      "text/plain": [
       "(1170, 666)"
      ]
     },
     "execution_count": 301,
     "metadata": {},
     "output_type": "execute_result"
    }
   ],
   "source": [
    "X_valid.shape"
   ]
  },
  {
   "cell_type": "code",
   "execution_count": 302,
   "id": "b85c5001",
   "metadata": {
    "colab": {
     "base_uri": "https://localhost:8080/"
    },
    "executionInfo": {
     "elapsed": 11957,
     "status": "ok",
     "timestamp": 1686001002916,
     "user": {
      "displayName": "Zhiyuan Lou",
      "userId": "02318339843925588574"
     },
     "user_tz": -60
    },
    "id": "b85c5001",
    "outputId": "63bcaee2-27dd-4686-c79f-c51198dae211"
   },
   "outputs": [
    {
     "name": "stdout",
     "output_type": "stream",
     "text": [
      "Epoch 1/5\n",
      "\u001b[1m171/171\u001b[0m \u001b[32m━━━━━━━━━━━━━━━━━━━━\u001b[0m\u001b[37m\u001b[0m \u001b[1m2s\u001b[0m 11ms/step - accuracy: 0.0461 - loss: 3.2517 - val_accuracy: 0.1684 - val_loss: 2.9699\n",
      "Epoch 2/5\n",
      "\u001b[1m171/171\u001b[0m \u001b[32m━━━━━━━━━━━━━━━━━━━━\u001b[0m\u001b[37m\u001b[0m \u001b[1m2s\u001b[0m 10ms/step - accuracy: 0.1383 - loss: 2.8890 - val_accuracy: 0.3222 - val_loss: 2.3818\n",
      "Epoch 3/5\n",
      "\u001b[1m171/171\u001b[0m \u001b[32m━━━━━━━━━━━━━━━━━━━━\u001b[0m\u001b[37m\u001b[0m \u001b[1m2s\u001b[0m 11ms/step - accuracy: 0.2499 - loss: 2.4540 - val_accuracy: 0.4205 - val_loss: 1.9107\n",
      "Epoch 4/5\n",
      "\u001b[1m171/171\u001b[0m \u001b[32m━━━━━━━━━━━━━━━━━━━━\u001b[0m\u001b[37m\u001b[0m \u001b[1m2s\u001b[0m 10ms/step - accuracy: 0.3193 - loss: 2.1439 - val_accuracy: 0.5556 - val_loss: 1.6540\n",
      "Epoch 5/5\n",
      "\u001b[1m171/171\u001b[0m \u001b[32m━━━━━━━━━━━━━━━━━━━━\u001b[0m\u001b[37m\u001b[0m \u001b[1m2s\u001b[0m 10ms/step - accuracy: 0.3746 - loss: 1.9294 - val_accuracy: 0.6274 - val_loss: 1.4228\n"
     ]
    }
   ],
   "source": [
    "# build the model and train it\n",
    "NUM_GESTURES = 26\n",
    "model = tf.keras.Sequential()\n",
    "#model.add(tf.keras.Input(shape=(2160)))\n",
    "model.add(tf.keras.layers.Input(shape=(666,1)))\n",
    "model.add(tf.keras.layers.Conv1D(filters=16, kernel_size=3, activation='relu'))\n",
    "model.add(tf.keras.layers.Conv1D(filters=16, kernel_size=3, activation='relu'))\n",
    "model.add(tf.keras.layers.MaxPooling1D(pool_size=2))\n",
    "model.add(tf.keras.layers.Conv1D(filters=64, kernel_size=3, activation='relu'))\n",
    "model.add(tf.keras.layers.Conv1D(filters=64, kernel_size=3, activation='relu'))\n",
    "model.add(tf.keras.layers.MaxPooling1D(pool_size=2))\n",
    "model.add(tf.keras.layers.Flatten())\n",
    "model.add(tf.keras.layers.Dense(64, activation='relu')) #\n",
    "model.add(tf.keras.layers.Dropout(0.5)) #0.5\n",
    "# model.add(tf.keras.layers.Dense(32, activation='relu'))\n",
    "# model.add(tf.keras.layers.Dropout(0.2))\n",
    "\n",
    "model.add(tf.keras.layers.Dense(NUM_GESTURES, activation='softmax')) # softmax is used, because we only expect one gesture to occur per input\n",
    "model.compile(optimizer='RMSprop', loss='CategoricalCrossentropy', metrics=['accuracy']) #Nadam\n",
    "history = model.fit(X_train, y_train,validation_data=(X_test, y_test), epochs=5, batch_size=32) #betch_size=10\n",
    "\n"
   ]
  },
  {
   "cell_type": "code",
   "execution_count": 303,
   "id": "82571f5c",
   "metadata": {
    "colab": {
     "base_uri": "https://localhost:8080/"
    },
    "executionInfo": {
     "elapsed": 9,
     "status": "ok",
     "timestamp": 1686001002917,
     "user": {
      "displayName": "Zhiyuan Lou",
      "userId": "02318339843925588574"
     },
     "user_tz": -60
    },
    "id": "82571f5c",
    "outputId": "53df907e-d240-4798-aaee-fa7051c12105"
   },
   "outputs": [
    {
     "name": "stdout",
     "output_type": "stream",
     "text": [
      "[1.3672456741333008, 0.6418803334236145]\n"
     ]
    }
   ],
   "source": [
    "#model.save('Becky_textile.h5')\n",
    "scores = model.evaluate(X_valid,y_valid,verbose = 0)\n",
    "print(scores)"
   ]
  },
  {
   "cell_type": "code",
   "execution_count": 304,
   "id": "821cb587",
   "metadata": {
    "colab": {
     "base_uri": "https://localhost:8080/"
    },
    "executionInfo": {
     "elapsed": 481,
     "status": "ok",
     "timestamp": 1686001003393,
     "user": {
      "displayName": "Zhiyuan Lou",
      "userId": "02318339843925588574"
     },
     "user_tz": -60
    },
    "id": "821cb587",
    "outputId": "2aa98990-8c8d-4b0a-a7fb-9061a2c1e6d8"
   },
   "outputs": [
    {
     "name": "stdout",
     "output_type": "stream",
     "text": [
      "\u001b[1m37/37\u001b[0m \u001b[32m━━━━━━━━━━━━━━━━━━━━\u001b[0m\u001b[37m\u001b[0m \u001b[1m0s\u001b[0m 4ms/step\n"
     ]
    }
   ],
   "source": [
    "kk = model.predict(X_valid)\n",
    "re = np.argmax(kk,axis=1)\n",
    "labelss = y_valid\n",
    "tt = np.argmax(labelss,axis=1)"
   ]
  },
  {
   "cell_type": "code",
   "execution_count": 305,
   "id": "8ea8e4e7",
   "metadata": {
    "colab": {
     "base_uri": "https://localhost:8080/",
     "height": 502
    },
    "executionInfo": {
     "elapsed": 3177,
     "status": "ok",
     "timestamp": 1686001006567,
     "user": {
      "displayName": "Zhiyuan Lou",
      "userId": "02318339843925588574"
     },
     "user_tz": -60
    },
    "id": "8ea8e4e7",
    "outputId": "cb5bc237-fc35-4db1-9230-0255cb9bc266"
   },
   "outputs": [
    {
     "data": {
      "text/plain": [
       "Text(47.25, 0.5, 'true')"
      ]
     },
     "execution_count": 305,
     "metadata": {},
     "output_type": "execute_result"
    },
    {
     "data": {
      "image/png": "[encoded data removed]",
      "text/plain": [
       "<Figure size 640x480 with 2 Axes>"
      ]
     },
     "metadata": {},
     "output_type": "display_data"
    }
   ],
   "source": [
    "import seaborn as sns\n",
    "from sklearn.metrics import confusion_matrix\n",
    "import matplotlib.pyplot as plt\n",
    "sns.set()\n",
    "f,ax=plt.subplots()\n",
    "y_true = tt\n",
    "y_pred = re\n",
    "C2= confusion_matrix(y_true, y_pred, labels=[0,1, 2,3,4,5,6,7,8,9,10,11,12,13,14,15,16,17,18,19,20,21,22,23,24,25])\n",
    "sns.heatmap(C2,annot=True,ax=ax) #画热力图\n",
    "\n",
    "ax.set_title('confusion matrix') #标题\n",
    "ax.set_xlabel('predict') #x轴\n",
    "ax.set_ylabel('true') #y轴"
   ]
  },
  {
   "cell_type": "code",
   "execution_count": 306,
   "id": "d34645a5",
   "metadata": {
    "colab": {
     "base_uri": "https://localhost:8080/"
    },
    "executionInfo": {
     "elapsed": 15,
     "status": "ok",
     "timestamp": 1686001006567,
     "user": {
      "displayName": "Zhiyuan Lou",
      "userId": "02318339843925588574"
     },
     "user_tz": -60
    },
    "id": "d34645a5",
    "outputId": "2449d2be-fcd0-49f2-d766-99f827ad8051"
   },
   "outputs": [
    {
     "name": "stdout",
     "output_type": "stream",
     "text": [
      "[1.3672456741333008, 0.6418803334236145]\n"
     ]
    }
   ],
   "source": [
    "scores = model.evaluate(X_valid,y_valid,verbose = 0)\n",
    "print(scores)"
   ]
  },
  {
   "cell_type": "code",
   "execution_count": null,
   "id": "8d7b1147",
   "metadata": {},
   "outputs": [],
   "source": []
  }
 ],
 "metadata": {
  "colab": {
   "provenance": []
  },
  "kernelspec": {
   "display_name": "Python 3",
   "language": "python",
   "name": "python3"
  },
  "language_info": {
   "codemirror_mode": {
    "name": "ipython",
    "version": 3
   },
   "file_extension": ".py",
   "mimetype": "text/x-python",
   "name": "python",
   "nbconvert_exporter": "python",
   "pygments_lexer": "ipython3",
   "version": "3.10.9"
  }
 },
 "nbformat": 4,
 "nbformat_minor": 5
}
