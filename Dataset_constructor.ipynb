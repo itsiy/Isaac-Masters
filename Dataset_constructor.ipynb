{
 "cells": [
  {
   "cell_type": "code",
   "execution_count": 92,
   "id": "7cec1f8b",
   "metadata": {},
   "outputs": [],
   "source": [
    "import tensorflow as tf\n",
    "from sklearn.preprocessing import MinMaxScaler\n",
    "from sklearn.model_selection import train_test_split\n",
    "from tensorflow.python.keras import regularizers\n",
    "import matplotlib.pyplot as plt\n",
    "import numpy as np\n",
    "import pandas as pd\n",
    "import numpy.matlib"
   ]
  },
  {
   "cell_type": "code",
   "execution_count": null,
   "id": "43d2e904",
   "metadata": {},
   "outputs": [],
   "source": [
    "GESTURES = ['A','B','C','D','E','F','G','H','I',\\\n",
    "    'V','W','X','Y','1',\\\n",
    "    '2','3','4','5','P1H','P1L','P2H','P2L','P3H','P3L','P4H','P4L']\n",
    "# GESTURES = ['A','B','C','D','E','F','G','H','I',\\\n",
    "#     'V','W','X','Y','1',\\\n",
    "#     '2','3','4','5']\n",
    "NUM_GESTURES = len(GESTURES)\n",
    "ONE_HOT_GESTURES = np.eye(NUM_GESTURES) #create one-hot encoded matrix\n",
    "NUM_SENSOR = 36\n",
    "\n",
    "inputs = np.zeros([1,36]) # create empty lists \n",
    "outputs = np.zeros([1,26])"
   ]
  },
  {
   "cell_type": "code",
   "execution_count": null,
   "id": "b210c951",
   "metadata": {},
   "outputs": [],
   "source": [
    "scaler = MinMaxScaler()\n",
    "for g_idx in range(NUM_GESTURES):\n",
    "    g = GESTURES[g_idx]\n",
    "    output = ONE_HOT_GESTURES[g_idx]\n",
    "#     output = g_idx\n",
    "    df1 = pd.read_csv(\"C:\\\\Users\\\\Isaac\\\\OneDrive\\\\Desktop\\\\HGR Data\\\\1\\\\\" + g + \".csv\",header = None)\n",
    "    df2 = pd.read_csv(\"C:\\\\Users\\\\Isaac\\\\OneDrive\\\\Desktop\\\\HGR Data\\\\2\\\\\" + g + \".csv\",header = None)\n",
    "    df3 = pd.read_csv(\"C:\\\\Users\\\\Isaac\\\\OneDrive\\\\Desktop\\\\HGR Data\\\\3\\\\\" + g + \".csv\",header = None)\n",
    "    df4 = pd.read_csv(\"C:\\\\Users\\\\Isaac\\\\OneDrive\\\\Desktop\\\\HGR Data\\\\4\\\\\" + g + \".csv\",header = None)\n",
    "    df5 = pd.read_csv(\"C:\\\\Users\\\\Isaac\\\\OneDrive\\\\Desktop\\\\HGR Data\\\\5\\\\\" + g + \".csv\",header = None)\n",
    "    df6 = pd.read_csv(\"C:\\\\Users\\\\Isaac\\\\OneDrive\\\\Desktop\\\\HGR Data\\\\6\\\\\" + g + \".csv\",header = None)\n",
    "    df7 = pd.read_csv(\"C:\\\\Users\\\\Isaac\\\\OneDrive\\\\Desktop\\\\HGR Data\\\\7\\\\\" + g + \".csv\",header = None)\n",
    "    df8 = pd.read_csv(\"C:\\\\Users\\\\Isaac\\\\OneDrive\\\\Desktop\\\\HGR Data\\\\8\\\\\" + g + \".csv\",header = None)\n",
    "    df9 = pd.read_csv(\"C:\\\\Users\\\\Isaac\\\\OneDrive\\\\Desktop\\\\HGR Data\\\\9\\\\\" + g + \".csv\",header = None)\n",
    "    df10 = pd.read_csv(\"C:\\\\Users\\\\Isaac\\\\OneDrive\\\\Desktop\\\\HGR Data\\\\10\\\\\" + g + \".csv\",header = None)\n",
    "    df11 = pd.read_csv(\"C:\\\\Users\\\\Isaac\\\\OneDrive\\\\Desktop\\\\HGR Data\\\\11\\\\\" + g + \".csv\",header = None)\n",
    "    frames = [df1]\n",
    "    df = pd.concat(frames)\n",
    "#     df = df.iloc[0:90,:]\n",
    "#     df_scaled = scaler.fit_transform(df) \n",
    "#     df_scaled = pd.DataFrame(df_scaled)  #convert df_scaled to Dataframe\n",
    "#     df_scaled = df_scaled.dropna()    #drop na from the dataframe\n",
    "    dfLen = df.shape[0]\n",
    "    singel_gesture_label = np.matlib.repmat(output,dfLen,1)\n",
    "    single_gesture_data = df.to_numpy()\n",
    "    inputs = np.append(inputs, single_gesture_data, axis = 0)\n",
    "    outputs = np.append(outputs, singel_gesture_label, axis = 0)"
   ]
  },
  {
   "cell_type": "code",
   "execution_count": 95,
   "id": "7cde7b2d",
   "metadata": {},
   "outputs": [],
   "source": [
    "inputs = inputs[1:,:]\n",
    "outputs = outputs[1:,:]"
   ]
  },
  {
   "cell_type": "code",
   "execution_count": 96,
   "id": "1d6f70ad",
   "metadata": {},
   "outputs": [],
   "source": [
    "indexs = pd.read_csv('indexs.csv', header=None)\n",
    "indexs = indexs - 1\n",
    "\n",
    "# Ensure inputs is a NumPy array\n",
    "if isinstance(inputs, pd.DataFrame):\n",
    "    inputs_np = inputs.values\n",
    "else:\n",
    "    inputs_np = inputs\n",
    "\n",
    "index_array = indexs.values.astype(int)\n",
    "augment_feature = inputs_np[:, index_array[:, 0]] - inputs_np[:, index_array[:, 1]]\n",
    "\n",
    "data_all = np.hstack((inputs_np, augment_feature))\n",
    "data_scaled = scaler.fit_transform(data_all)\n"
   ]
  },
  {
   "cell_type": "code",
   "execution_count": 97,
   "id": "3e243924",
   "metadata": {},
   "outputs": [
    {
     "data": {
      "text/plain": [
       "numpy.ndarray"
      ]
     },
     "execution_count": 97,
     "metadata": {},
     "output_type": "execute_result"
    }
   ],
   "source": [
    "type(data_scaled)"
   ]
  },
  {
   "cell_type": "code",
   "execution_count": 98,
   "id": "61c657f3",
   "metadata": {},
   "outputs": [],
   "source": [
    "data_scaled_df = pd.DataFrame(data_scaled)\n",
    "data_scaled_df.to_csv('EI_data.csv')\n",
    "labels_df = pd.DataFrame(outputs)\n",
    "labels_df.to_csv('EI_labels.csv')"
   ]
  }
 ],
 "metadata": {
  "kernelspec": {
   "display_name": "Python 3",
   "language": "python",
   "name": "python3"
  },
  "language_info": {
   "codemirror_mode": {
    "name": "ipython",
    "version": 3
   },
   "file_extension": ".py",
   "mimetype": "text/x-python",
   "name": "python",
   "nbconvert_exporter": "python",
   "pygments_lexer": "ipython3",
   "version": "3.10.9"
  }
 },
 "nbformat": 4,
 "nbformat_minor": 5
}
